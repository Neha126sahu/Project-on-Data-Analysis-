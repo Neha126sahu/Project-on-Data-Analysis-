{
 "cells": [
  {
   "cell_type": "markdown",
   "id": "5a0f71b8",
   "metadata": {},
   "source": [
    "### lets start with task 1"
   ]
  },
  {
   "cell_type": "code",
   "execution_count": 1,
   "id": "c2b16c2e",
   "metadata": {},
   "outputs": [
    {
     "ename": "ModuleNotFoundError",
     "evalue": "No module named 'pyspark'",
     "output_type": "error",
     "traceback": [
      "\u001b[1;31m---------------------------------------------------------------------------\u001b[0m",
      "\u001b[1;31mModuleNotFoundError\u001b[0m                       Traceback (most recent call last)",
      "Cell \u001b[1;32mIn[1], line 1\u001b[0m\n\u001b[1;32m----> 1\u001b[0m \u001b[38;5;28;01mfrom\u001b[39;00m \u001b[38;5;21;01mpyspark\u001b[39;00m\u001b[38;5;21;01m.\u001b[39;00m\u001b[38;5;21;01msql\u001b[39;00m \u001b[38;5;28;01mimport\u001b[39;00m SparkSession\n",
      "\u001b[1;31mModuleNotFoundError\u001b[0m: No module named 'pyspark'"
     ]
    }
   ],
   "source": [
    "from pyspark.sql import SparkSession"
   ]
  },
  {
   "cell_type": "code",
   "execution_count": 2,
   "id": "59cdb45c",
   "metadata": {},
   "outputs": [
    {
     "data": {
      "application/vnd.jupyter.widget-view+json": {
       "model_id": "62248f6f916c4b2e83d79a951eff91a7",
       "version_major": 2,
       "version_minor": 0
      },
      "text/plain": [
       "VBox()"
      ]
     },
     "metadata": {},
     "output_type": "display_data"
    },
    {
     "data": {
      "application/vnd.jupyter.widget-view+json": {
       "model_id": "",
       "version_major": 2,
       "version_minor": 0
      },
      "text/plain": [
       "FloatProgress(value=0.0, bar_style='info', description='Progress:', layout=Layout(height='25px', width='50%'),…"
      ]
     },
     "metadata": {},
     "output_type": "display_data"
    }
   ],
   "source": [
    "from pyspark.sql import functions as F\n",
    "\n",
    "# Import for typecasting columns\n",
    "from pyspark.sql.types import IntegerType,BooleanType,DateType,FloatType,StringType\n",
    "from pyspark.sql.types import ArrayType"
   ]
  },
  {
   "cell_type": "code",
   "execution_count": 3,
   "id": "dde08d22",
   "metadata": {},
   "outputs": [
    {
     "data": {
      "application/vnd.jupyter.widget-view+json": {
       "model_id": "db2af64314dc46b39f7ede9ccbb23b45",
       "version_major": 2,
       "version_minor": 0
      },
      "text/plain": [
       "VBox()"
      ]
     },
     "metadata": {},
     "output_type": "display_data"
    },
    {
     "data": {
      "application/vnd.jupyter.widget-view+json": {
       "model_id": "",
       "version_major": 2,
       "version_minor": 0
      },
      "text/plain": [
       "FloatProgress(value=0.0, bar_style='info', description='Progress:', layout=Layout(height='25px', width='50%'),…"
      ]
     },
     "metadata": {},
     "output_type": "display_data"
    }
   ],
   "source": [
    "spark = SparkSession.builder.appName(\"Recipe Recommender\").getOrCreate()"
   ]
  },
  {
   "cell_type": "code",
   "execution_count": 4,
   "id": "d2d17ab6",
   "metadata": {},
   "outputs": [
    {
     "data": {
      "application/vnd.jupyter.widget-view+json": {
       "model_id": "1adcc3e4d4304afb88bab802a5953ec5",
       "version_major": 2,
       "version_minor": 0
      },
      "text/plain": [
       "VBox()"
      ]
     },
     "metadata": {},
     "output_type": "display_data"
    },
    {
     "data": {
      "application/vnd.jupyter.widget-view+json": {
       "model_id": "",
       "version_major": 2,
       "version_minor": 0
      },
      "text/plain": [
       "FloatProgress(value=0.0, bar_style='info', description='Progress:', layout=Layout(height='25px', width='50%'),…"
      ]
     },
     "metadata": {},
     "output_type": "display_data"
    },
    {
     "name": "stdout",
     "output_type": "stream",
     "text": [
      "<pyspark.sql.session.SparkSession object at 0x7f35dbd77450>"
     ]
    }
   ],
   "source": [
    "spark"
   ]
  },
  {
   "cell_type": "markdown",
   "id": "c9d151a4",
   "metadata": {},
   "source": [
    "##### As permssions were denied whilst trying to read the file from upgrad s3, i have downloaded the file and loaded it directly into my own s3 bucket. lets read it from there and proceed"
   ]
  },
  {
   "cell_type": "code",
   "execution_count": 5,
   "id": "018f38ee",
   "metadata": {},
   "outputs": [
    {
     "data": {
      "application/vnd.jupyter.widget-view+json": {
       "model_id": "bec576c55fa6469594cfd97134c5b168",
       "version_major": 2,
       "version_minor": 0
      },
      "text/plain": [
       "VBox()"
      ]
     },
     "metadata": {},
     "output_type": "display_data"
    },
    {
     "data": {
      "application/vnd.jupyter.widget-view+json": {
       "model_id": "",
       "version_major": 2,
       "version_minor": 0
      },
      "text/plain": [
       "FloatProgress(value=0.0, bar_style='info', description='Progress:', layout=Layout(height='25px', width='50%'),…"
      ]
     },
     "metadata": {},
     "output_type": "display_data"
    }
   ],
   "source": [
    "recipe_df = spark.read.options(header=True, inferSchema=True).csv('s3://foodproj/e-2RYFIQJPQ6ML5ST9TYHE146YH/RAW_recipes_cleaned.csv')"
   ]
  },
  {
   "cell_type": "code",
   "execution_count": 6,
   "id": "3f2185d6",
   "metadata": {},
   "outputs": [
    {
     "data": {
      "application/vnd.jupyter.widget-view+json": {
       "model_id": "65a7e12f4caa4e519dfe66a2bc639c44",
       "version_major": 2,
       "version_minor": 0
      },
      "text/plain": [
       "VBox()"
      ]
     },
     "metadata": {},
     "output_type": "display_data"
    },
    {
     "data": {
      "application/vnd.jupyter.widget-view+json": {
       "model_id": "",
       "version_major": 2,
       "version_minor": 0
      },
      "text/plain": [
       "FloatProgress(value=0.0, bar_style='info', description='Progress:', layout=Layout(height='25px', width='50%'),…"
      ]
     },
     "metadata": {},
     "output_type": "display_data"
    },
    {
     "name": "stdout",
     "output_type": "stream",
     "text": [
      "+--------------------+------+-------+--------------+-------------------+--------------------+--------------------+-------+--------------------+--------------------+--------------------+-------------+\n",
      "|                name|    id|minutes|contributor_id|          submitted|                tags|           nutrition|n_steps|               steps|         description|         ingredients|n_ingredients|\n",
      "+--------------------+------+-------+--------------+-------------------+--------------------+--------------------+-------+--------------------+--------------------+--------------------+-------------+\n",
      "|arriba   baked wi...|137739|     55|         47892|2005-09-16 00:00:00|['60-minutes-or-l...|[51.5, 0.0, 13.0,...|     11|['make a choice a...|autumn is my favo...|['winter squash',...|            7|\n",
      "|a bit different  ...| 31490|     30|         26278|2002-06-17 00:00:00|['30-minutes-or-l...|[173.4, 18.0, 0.0...|      9|['preheat oven to...|this recipe calls...|['prepared pizza ...|            6|\n",
      "|all in the kitche...|112140|    130|        196586|2005-02-25 00:00:00|['time-to-make', ...|[269.8, 22.0, 32....|      6|['brown ground be...|this modified ver...|['ground beef', '...|           13|\n",
      "|  alouette  potatoes| 59389|     45|         68585|2003-04-14 00:00:00|['60-minutes-or-l...|[368.1, 17.0, 10....|     11|['place potatoes ...|this is a super e...|['spreadable chee...|           11|\n",
      "|amish  tomato ket...| 44061|    190|         41706|2002-10-25 00:00:00|['weeknight', 'ti...|[352.9, 1.0, 337....|      5|['mix all ingredi...|my dh's amish mot...|['tomato juice', ...|            8|\n",
      "+--------------------+------+-------+--------------+-------------------+--------------------+--------------------+-------+--------------------+--------------------+--------------------+-------------+\n",
      "only showing top 5 rows"
     ]
    }
   ],
   "source": [
    "recipe_df.show(5)"
   ]
  },
  {
   "cell_type": "code",
   "execution_count": 7,
   "id": "9fafcc55",
   "metadata": {
    "scrolled": true
   },
   "outputs": [
    {
     "data": {
      "application/vnd.jupyter.widget-view+json": {
       "model_id": "204cca6390fd44eb801ffd5a0076d844",
       "version_major": 2,
       "version_minor": 0
      },
      "text/plain": [
       "VBox()"
      ]
     },
     "metadata": {},
     "output_type": "display_data"
    },
    {
     "data": {
      "application/vnd.jupyter.widget-view+json": {
       "model_id": "",
       "version_major": 2,
       "version_minor": 0
      },
      "text/plain": [
       "FloatProgress(value=0.0, bar_style='info', description='Progress:', layout=Layout(height='25px', width='50%'),…"
      ]
     },
     "metadata": {},
     "output_type": "display_data"
    }
   ],
   "source": [
    "assert recipe_df.count() == 231637, \"There is a mistake in reading the data.\"\n",
    "assert len(recipe_df.columns) == 12, \"There is a mistake in reading the data.\"\n",
    "assert recipe_df.schema[\"minutes\"].dataType == IntegerType(), \"The data types have not been read correctly.\"\n",
    "assert recipe_df.schema[\"tags\"].dataType == StringType(), \"The data types have not been read correctly.\"\n",
    "assert recipe_df.schema[\"n_ingredients\"].dataType == IntegerType(), \"The data types have not been read correctly.\""
   ]
  },
  {
   "cell_type": "markdown",
   "id": "a599dc69",
   "metadata": {},
   "source": [
    "### lets move on to task 2"
   ]
  },
  {
   "cell_type": "code",
   "execution_count": 8,
   "id": "464374d2",
   "metadata": {},
   "outputs": [
    {
     "data": {
      "application/vnd.jupyter.widget-view+json": {
       "model_id": "64e4b1d4db3b4bb48838271324ef7768",
       "version_major": 2,
       "version_minor": 0
      },
      "text/plain": [
       "VBox()"
      ]
     },
     "metadata": {},
     "output_type": "display_data"
    },
    {
     "data": {
      "application/vnd.jupyter.widget-view+json": {
       "model_id": "",
       "version_major": 2,
       "version_minor": 0
      },
      "text/plain": [
       "FloatProgress(value=0.0, bar_style='info', description='Progress:', layout=Layout(height='25px', width='50%'),…"
      ]
     },
     "metadata": {},
     "output_type": "display_data"
    }
   ],
   "source": [
    "# We can remove the Square brackets by doing the following code\n",
    "\n",
    "recipe_df = (recipe_df.withColumn('nutrition',F.regexp_replace('nutrition', '\\\\[|\\\\]', '')))"
   ]
  },
  {
   "cell_type": "code",
   "execution_count": 9,
   "id": "170bacdb",
   "metadata": {},
   "outputs": [
    {
     "data": {
      "application/vnd.jupyter.widget-view+json": {
       "model_id": "5810fadeb9194449a9fd9c62a6068931",
       "version_major": 2,
       "version_minor": 0
      },
      "text/plain": [
       "VBox()"
      ]
     },
     "metadata": {},
     "output_type": "display_data"
    },
    {
     "data": {
      "application/vnd.jupyter.widget-view+json": {
       "model_id": "",
       "version_major": 2,
       "version_minor": 0
      },
      "text/plain": [
       "FloatProgress(value=0.0, bar_style='info', description='Progress:', layout=Layout(height='25px', width='50%'),…"
      ]
     },
     "metadata": {},
     "output_type": "display_data"
    }
   ],
   "source": [
    "# Now we can Split the nutrition columns, lets name it as nc_split\n",
    "nc_split= F.split(\"nutrition\",\",\")\n",
    "\n",
    "# Extraction of individual names from the column, lets go with nc_name\n",
    "nc_name= [\"calories\", \"total_fat_PDV\", \"sugar_PDV\", \"sodium_PDV\", \"protein_PDV\", \"saturated_fat_PDV\", \"carbohydrates_PDV\"]\n",
    "\n",
    "for col_index, col_name in enumerate (nc_name):\n",
    "    recipe_df= (recipe_df.withColumn(col_name,nc_split.getItem(col_index).cast(FloatType())))"
   ]
  },
  {
   "cell_type": "code",
   "execution_count": null,
   "id": "7b37f846-f82c-4116-87a8-e6bf88abd42e",
   "metadata": {},
   "outputs": [],
   "source": []
  },
  {
   "cell_type": "code",
   "execution_count": 10,
   "id": "c254be6b",
   "metadata": {},
   "outputs": [
    {
     "data": {
      "application/vnd.jupyter.widget-view+json": {
       "model_id": "5289ac86de20479ea316c8c9b9af1149",
       "version_major": 2,
       "version_minor": 0
      },
      "text/plain": [
       "VBox()"
      ]
     },
     "metadata": {},
     "output_type": "display_data"
    },
    {
     "data": {
      "application/vnd.jupyter.widget-view+json": {
       "model_id": "",
       "version_major": 2,
       "version_minor": 0
      },
      "text/plain": [
       "FloatProgress(value=0.0, bar_style='info', description='Progress:', layout=Layout(height='25px', width='50%'),…"
      ]
     },
     "metadata": {},
     "output_type": "display_data"
    },
    {
     "name": "stdout",
     "output_type": "stream",
     "text": [
      "+--------------------+------+-------+--------------+-------------------+--------------------+--------------------+-------+--------------------+--------------------+--------------------+-------------+--------+-------------+---------+----------+-----------+-----------------+-----------------+\n",
      "|                name|    id|minutes|contributor_id|          submitted|                tags|           nutrition|n_steps|               steps|         description|         ingredients|n_ingredients|calories|total_fat_PDV|sugar_PDV|sodium_PDV|protein_PDV|saturated_fat_PDV|carbohydrates_PDV|\n",
      "+--------------------+------+-------+--------------+-------------------+--------------------+--------------------+-------+--------------------+--------------------+--------------------+-------------+--------+-------------+---------+----------+-----------+-----------------+-----------------+\n",
      "|arriba   baked wi...|137739|     55|         47892|2005-09-16 00:00:00|['60-minutes-or-l...|51.5, 0.0, 13.0, ...|     11|['make a choice a...|autumn is my favo...|['winter squash',...|            7|    51.5|          0.0|     13.0|       0.0|        2.0|              0.0|              4.0|\n",
      "+--------------------+------+-------+--------------+-------------------+--------------------+--------------------+-------+--------------------+--------------------+--------------------+-------------+--------+-------------+---------+----------+-----------+-----------------+-----------------+\n",
      "only showing top 1 row"
     ]
    }
   ],
   "source": [
    "recipe_df.show(1)"
   ]
  },
  {
   "cell_type": "code",
   "execution_count": 11,
   "id": "c53c97a5",
   "metadata": {},
   "outputs": [
    {
     "data": {
      "application/vnd.jupyter.widget-view+json": {
       "model_id": "4674948cc5aa4737a789625079cd9034",
       "version_major": 2,
       "version_minor": 0
      },
      "text/plain": [
       "VBox()"
      ]
     },
     "metadata": {},
     "output_type": "display_data"
    },
    {
     "data": {
      "application/vnd.jupyter.widget-view+json": {
       "model_id": "",
       "version_major": 2,
       "version_minor": 0
      },
      "text/plain": [
       "FloatProgress(value=0.0, bar_style='info', description='Progress:', layout=Layout(height='25px', width='50%'),…"
      ]
     },
     "metadata": {},
     "output_type": "display_data"
    }
   ],
   "source": [
    "# check using assert\n",
    "\n",
    "assert recipe_df.schema[\"carbohydrates_PDV\"].dataType == FloatType(), \"Recheck your typecasting\"\n",
    "assert recipe_df.collect()[123432][14] == 62.0, \"The columns have not been split correctly.\"\n",
    "assert recipe_df.collect()[10000][12] == 60.400001525878906, \"The columns have not been split correctly.\""
   ]
  },
  {
   "cell_type": "markdown",
   "id": "7bc295a4",
   "metadata": {},
   "source": [
    "### Task 3 requires us to Standardize the nutrition values"
   ]
  },
  {
   "cell_type": "code",
   "execution_count": 12,
   "id": "e56e9364",
   "metadata": {},
   "outputs": [
    {
     "data": {
      "application/vnd.jupyter.widget-view+json": {
       "model_id": "ce84777d855145bf96b57fc9a58d49d8",
       "version_major": 2,
       "version_minor": 0
      },
      "text/plain": [
       "VBox()"
      ]
     },
     "metadata": {},
     "output_type": "display_data"
    },
    {
     "data": {
      "application/vnd.jupyter.widget-view+json": {
       "model_id": "",
       "version_major": 2,
       "version_minor": 0
      },
      "text/plain": [
       "FloatProgress(value=0.0, bar_style='info', description='Progress:', layout=Layout(height='25px', width='50%'),…"
      ]
     },
     "metadata": {},
     "output_type": "display_data"
    }
   ],
   "source": [
    "for nutrition_col in nc_name:\n",
    "    if nutrition_col != 'calories': \n",
    "        nutrition_per_100_cal_col = nutrition_col.replace('_PDV', '') + '_per_100_cal'\n",
    "        \n",
    "        # Perform the transformation to calculate values per 100 calories\n",
    "        recipe_df = recipe_df.withColumn(\n",
    "            nutrition_per_100_cal_col,\n",
    "            (F.col(nutrition_col) * 100 / F.col('calories'))\n",
    "        )\n",
    "        \n",
    "        # Fill nulls with 0 in only the current nutrition_per_100_cal_col\n",
    "        recipe_df = recipe_df.fillna({nutrition_per_100_cal_col: 0})"
   ]
  },
  {
   "cell_type": "code",
   "execution_count": 13,
   "id": "254efa5d",
   "metadata": {
    "scrolled": true
   },
   "outputs": [
    {
     "data": {
      "application/vnd.jupyter.widget-view+json": {
       "model_id": "ae3b1d531fe4461d8b0c3110004e86a6",
       "version_major": 2,
       "version_minor": 0
      },
      "text/plain": [
       "VBox()"
      ]
     },
     "metadata": {},
     "output_type": "display_data"
    },
    {
     "data": {
      "application/vnd.jupyter.widget-view+json": {
       "model_id": "",
       "version_major": 2,
       "version_minor": 0
      },
      "text/plain": [
       "FloatProgress(value=0.0, bar_style='info', description='Progress:', layout=Layout(height='25px', width='50%'),…"
      ]
     },
     "metadata": {},
     "output_type": "display_data"
    },
    {
     "name": "stdout",
     "output_type": "stream",
     "text": [
      "+--------------------+------+-------+--------------+-------------------+--------------------+--------------------+-------+--------------------+--------------------+--------------------+-------------+--------+-------------+---------+----------+-----------+-----------------+-----------------+---------------------+------------------+------------------+-------------------+-------------------------+-------------------------+\n",
      "|                name|    id|minutes|contributor_id|          submitted|                tags|           nutrition|n_steps|               steps|         description|         ingredients|n_ingredients|calories|total_fat_PDV|sugar_PDV|sodium_PDV|protein_PDV|saturated_fat_PDV|carbohydrates_PDV|total_fat_per_100_cal| sugar_per_100_cal|sodium_per_100_cal|protein_per_100_cal|saturated_fat_per_100_cal|carbohydrates_per_100_cal|\n",
      "+--------------------+------+-------+--------------+-------------------+--------------------+--------------------+-------+--------------------+--------------------+--------------------+-------------+--------+-------------+---------+----------+-----------+-----------------+-----------------+---------------------+------------------+------------------+-------------------+-------------------------+-------------------------+\n",
      "|arriba   baked wi...|137739|     55|         47892|2005-09-16 00:00:00|['60-minutes-or-l...|51.5, 0.0, 13.0, ...|     11|['make a choice a...|autumn is my favo...|['winter squash',...|            7|    51.5|          0.0|     13.0|       0.0|        2.0|              0.0|              4.0|                  0.0| 25.24271844660194|               0.0|  3.883495145631068|                      0.0|        7.766990291262136|\n",
      "|a bit different  ...| 31490|     30|         26278|2002-06-17 00:00:00|['30-minutes-or-l...|173.4, 18.0, 0.0,...|      9|['preheat oven to...|this recipe calls...|['prepared pizza ...|            6|   173.4|         18.0|      0.0|      17.0|       22.0|             35.0|              1.0|   10.380623202758338|               0.0|  9.80392191371621| 12.687428358926859|        20.18454511647455|       0.5767012890421299|\n",
      "|all in the kitche...|112140|    130|        196586|2005-02-25 00:00:00|['time-to-make', ...|269.8, 22.0, 32.0...|      6|['brown ground be...|this modified ver...|['ground beef', '...|           13|   269.8|         22.0|     32.0|      48.0|       39.0|             27.0|              5.0|    8.154188656554616|11.860638045897625| 17.79095706884644| 14.455152618437731|       10.007413351226122|       1.8532246946715039|\n",
      "|  alouette  potatoes| 59389|     45|         68585|2003-04-14 00:00:00|['60-minutes-or-l...|368.1, 17.0, 10.0...|     11|['place potatoes ...|this is a super e...|['spreadable chee...|           11|   368.1|         17.0|     10.0|       2.0|       14.0|              8.0|             20.0|    4.618310165205302|  2.71665303835606| 0.543330607671212| 3.8033142536984843|        2.173322430684848|         5.43330607671212|\n",
      "|amish  tomato ket...| 44061|    190|         41706|2002-10-25 00:00:00|['weeknight', 'ti...|352.9, 1.0, 337.0...|      5|['mix all ingredi...|my dh's amish mot...|['tomato juice', ...|            8|   352.9|          1.0|    337.0|      23.0|        3.0|              0.0|             28.0|   0.2833663976467306| 95.49447600694822| 6.517427145874804| 0.8500991929401919|                      0.0|        7.934259134108458|\n",
      "+--------------------+------+-------+--------------+-------------------+--------------------+--------------------+-------+--------------------+--------------------+--------------------+-------------+--------+-------------+---------+----------+-----------+-----------------+-----------------+---------------------+------------------+------------------+-------------------+-------------------------+-------------------------+\n",
      "only showing top 5 rows"
     ]
    }
   ],
   "source": [
    "recipe_df.show(5)"
   ]
  },
  {
   "cell_type": "code",
   "execution_count": 14,
   "id": "142384b7",
   "metadata": {},
   "outputs": [
    {
     "data": {
      "application/vnd.jupyter.widget-view+json": {
       "model_id": "f862c18c7b854cb7bd42bd042476f956",
       "version_major": 2,
       "version_minor": 0
      },
      "text/plain": [
       "VBox()"
      ]
     },
     "metadata": {},
     "output_type": "display_data"
    },
    {
     "data": {
      "application/vnd.jupyter.widget-view+json": {
       "model_id": "",
       "version_major": 2,
       "version_minor": 0
      },
      "text/plain": [
       "FloatProgress(value=0.0, bar_style='info', description='Progress:', layout=Layout(height='25px', width='50%'),…"
      ]
     },
     "metadata": {},
     "output_type": "display_data"
    },
    {
     "name": "stdout",
     "output_type": "stream",
     "text": [
      "root\n",
      " |-- name: string (nullable = true)\n",
      " |-- id: integer (nullable = true)\n",
      " |-- minutes: integer (nullable = true)\n",
      " |-- contributor_id: integer (nullable = true)\n",
      " |-- submitted: timestamp (nullable = true)\n",
      " |-- tags: string (nullable = true)\n",
      " |-- nutrition: string (nullable = true)\n",
      " |-- n_steps: integer (nullable = true)\n",
      " |-- steps: string (nullable = true)\n",
      " |-- description: string (nullable = true)\n",
      " |-- ingredients: string (nullable = true)\n",
      " |-- n_ingredients: integer (nullable = true)\n",
      " |-- calories: float (nullable = true)\n",
      " |-- total_fat_per_100_cal: double (nullable = false)\n",
      " |-- sugar_per_100_cal: double (nullable = false)\n",
      " |-- sodium_per_100_cal: double (nullable = false)\n",
      " |-- protein_per_100_cal: double (nullable = false)\n",
      " |-- saturated_fat_per_100_cal: double (nullable = false)\n",
      " |-- carbohydrates_per_100_cal: double (nullable = false)"
     ]
    }
   ],
   "source": [
    "# since we still have the PDV columns, lets remove those\n",
    "all_columns = recipe_df.columns\n",
    "pdv_columns = [col for col in all_columns if 'PDV' in col]\n",
    "\n",
    "recipe_df = recipe_df.drop(*pdv_columns)\n",
    "\n",
    "recipe_df.printSchema()"
   ]
  },
  {
   "cell_type": "code",
   "execution_count": 15,
   "id": "32abbbba",
   "metadata": {},
   "outputs": [
    {
     "data": {
      "application/vnd.jupyter.widget-view+json": {
       "model_id": "179b0210cf49446da20fc96fcef4eae7",
       "version_major": 2,
       "version_minor": 0
      },
      "text/plain": [
       "VBox()"
      ]
     },
     "metadata": {},
     "output_type": "display_data"
    },
    {
     "data": {
      "application/vnd.jupyter.widget-view+json": {
       "model_id": "",
       "version_major": 2,
       "version_minor": 0
      },
      "text/plain": [
       "FloatProgress(value=0.0, bar_style='info', description='Progress:', layout=Layout(height='25px', width='50%'),…"
      ]
     },
     "metadata": {},
     "output_type": "display_data"
    }
   ],
   "source": [
    "# Total fat check for id 28881\n",
    "assert recipe_df.filter(\"id == 28881\").select('total_fat_per_100_cal').first()[0] == 0, \"total_fat_per_100_cal for recipe 28881 should be 0\"\n",
    "\n",
    "# Total fat check for id 112140\n",
    "assert round(recipe_df.filter(\"id == 112140\").select('total_fat_per_100_cal').first()[0]) == 8, \"total_fat_per_100_cal for recipe 112140 should be 8\"\n",
    "\n",
    "# Checking for nulls\n",
    "for c in ['total_fat_per_100_cal', 'sugar_per_100_cal', 'sodium_per_100_cal', \n",
    "          'protein_per_100_cal', 'saturated_fat_per_100_cal', 'carbohydrates_per_100_cal']:\n",
    "    assert recipe_df.select(F.count(F.when(F.isnan(c) | F.col(c).isNull(), c)).alias(c)).collect()[0][0] == 0, \"There are Nulls in the data\"\n"
   ]
  },
  {
   "cell_type": "markdown",
   "id": "de74a818",
   "metadata": {},
   "source": [
    "### In Task 4 we need to convert the 'Tags' column from string into an array of strings"
   ]
  },
  {
   "cell_type": "code",
   "execution_count": 26,
   "id": "700e102f",
   "metadata": {},
   "outputs": [
    {
     "data": {
      "application/vnd.jupyter.widget-view+json": {
       "model_id": "16544f3c565b4857b3fa70eca4abe705",
       "version_major": 2,
       "version_minor": 0
      },
      "text/plain": [
       "VBox()"
      ]
     },
     "metadata": {},
     "output_type": "display_data"
    },
    {
     "data": {
      "application/vnd.jupyter.widget-view+json": {
       "model_id": "",
       "version_major": 2,
       "version_minor": 0
      },
      "text/plain": [
       "FloatProgress(value=0.0, bar_style='info', description='Progress:', layout=Layout(height='25px', width='50%'),…"
      ]
     },
     "metadata": {},
     "output_type": "display_data"
    },
    {
     "name": "stdout",
     "output_type": "stream",
     "text": [
      "DataFrame[name: string, id: int, minutes: int, contributor_id: int, submitted: timestamp, tags: array<string>, nutrition: string, n_steps: int, steps: string, description: string, ingredients: string, n_ingredients: int, calories: float, total_fat_per_100_cal: double, sugar_per_100_cal: double, sodium_per_100_cal: double, protein_per_100_cal: double, saturated_fat_per_100_cal: double, carbohydrates_per_100_cal: double]"
     ]
    }
   ],
   "source": [
    "print(recipe_df)"
   ]
  },
  {
   "cell_type": "code",
   "execution_count": 16,
   "id": "9b6deccd",
   "metadata": {},
   "outputs": [
    {
     "data": {
      "application/vnd.jupyter.widget-view+json": {
       "model_id": "311d44079e0440ca9cb759bb3340b5db",
       "version_major": 2,
       "version_minor": 0
      },
      "text/plain": [
       "VBox()"
      ]
     },
     "metadata": {},
     "output_type": "display_data"
    },
    {
     "data": {
      "application/vnd.jupyter.widget-view+json": {
       "model_id": "",
       "version_major": 2,
       "version_minor": 0
      },
      "text/plain": [
       "FloatProgress(value=0.0, bar_style='info', description='Progress:', layout=Layout(height='25px', width='50%'),…"
      ]
     },
     "metadata": {},
     "output_type": "display_data"
    }
   ],
   "source": [
    "from pyspark.sql.functions import regexp_replace, split\n",
    "\n",
    "recipe_df = (recipe_df\n",
    "                  .withColumn('tags', \n",
    "                             regexp_replace('tags', '[\\\\[\\\\]\\']', '')) \n",
    "                  .withColumn('tags', \n",
    "                             split('tags', ','))  # Split the cleaned string into an array\n",
    "                 )"
   ]
  },
  {
   "cell_type": "code",
   "execution_count": 17,
   "id": "f75e0fa4",
   "metadata": {},
   "outputs": [
    {
     "data": {
      "application/vnd.jupyter.widget-view+json": {
       "model_id": "c4d06e4653e2494f85eae62ea5a5c883",
       "version_major": 2,
       "version_minor": 0
      },
      "text/plain": [
       "VBox()"
      ]
     },
     "metadata": {},
     "output_type": "display_data"
    },
    {
     "data": {
      "application/vnd.jupyter.widget-view+json": {
       "model_id": "",
       "version_major": 2,
       "version_minor": 0
      },
      "text/plain": [
       "FloatProgress(value=0.0, bar_style='info', description='Progress:', layout=Layout(height='25px', width='50%'),…"
      ]
     },
     "metadata": {},
     "output_type": "display_data"
    },
    {
     "name": "stdout",
     "output_type": "stream",
     "text": [
      "+--------------------+------+-------+--------------+-------------------+--------------------+--------------------+-------+--------------------+--------------------+--------------------+-------------+--------+---------------------+------------------+------------------+-------------------+-------------------------+-------------------------+\n",
      "|                name|    id|minutes|contributor_id|          submitted|                tags|           nutrition|n_steps|               steps|         description|         ingredients|n_ingredients|calories|total_fat_per_100_cal| sugar_per_100_cal|sodium_per_100_cal|protein_per_100_cal|saturated_fat_per_100_cal|carbohydrates_per_100_cal|\n",
      "+--------------------+------+-------+--------------+-------------------+--------------------+--------------------+-------+--------------------+--------------------+--------------------+-------------+--------+---------------------+------------------+------------------+-------------------+-------------------------+-------------------------+\n",
      "|arriba   baked wi...|137739|     55|         47892|2005-09-16 00:00:00|[60-minutes-or-le...|51.5, 0.0, 13.0, ...|     11|['make a choice a...|autumn is my favo...|['winter squash',...|            7|    51.5|                  0.0| 25.24271844660194|               0.0|  3.883495145631068|                      0.0|        7.766990291262136|\n",
      "|a bit different  ...| 31490|     30|         26278|2002-06-17 00:00:00|[30-minutes-or-le...|173.4, 18.0, 0.0,...|      9|['preheat oven to...|this recipe calls...|['prepared pizza ...|            6|   173.4|   10.380623202758338|               0.0|  9.80392191371621| 12.687428358926859|        20.18454511647455|       0.5767012890421299|\n",
      "|all in the kitche...|112140|    130|        196586|2005-02-25 00:00:00|[time-to-make,  c...|269.8, 22.0, 32.0...|      6|['brown ground be...|this modified ver...|['ground beef', '...|           13|   269.8|    8.154188656554616|11.860638045897625| 17.79095706884644| 14.455152618437731|       10.007413351226122|       1.8532246946715039|\n",
      "|  alouette  potatoes| 59389|     45|         68585|2003-04-14 00:00:00|[60-minutes-or-le...|368.1, 17.0, 10.0...|     11|['place potatoes ...|this is a super e...|['spreadable chee...|           11|   368.1|    4.618310165205302|  2.71665303835606| 0.543330607671212| 3.8033142536984843|        2.173322430684848|         5.43330607671212|\n",
      "|amish  tomato ket...| 44061|    190|         41706|2002-10-25 00:00:00|[weeknight,  time...|352.9, 1.0, 337.0...|      5|['mix all ingredi...|my dh's amish mot...|['tomato juice', ...|            8|   352.9|   0.2833663976467306| 95.49447600694822| 6.517427145874804| 0.8500991929401919|                      0.0|        7.934259134108458|\n",
      "|apple a day  milk...|  5289|      0|          1533|1999-12-06 00:00:00|[15-minutes-or-le...|160.2, 10.0, 55.0...|      4|['combine ingredi...|                    |['milk', 'vanilla...|            4|   160.2|    6.242197372345035| 34.33208554789769|1.8726592117035106|  5.617977635110531|        12.48439474469007|       4.3695381606415244|\n",
      "|aww  marinated ol...| 25274|     15|         21730|2002-04-14 00:00:00|[15-minutes-or-le...|380.7, 53.0, 7.0,...|      4|['toast the fenne...|my italian mil wa...|['fennel seeds', ...|            9|   380.7|   13.921722695185437|1.8387180918169446| 6.304176314800952|  1.576044078700238|        6.304176314800952|        1.576044078700238|\n",
      "|backyard style  b...| 67888|    120|         10404|2003-07-30 00:00:00|[weeknight,  time...|1109.5, 83.0, 378...|     10|['in a medium sau...|this recipe is po...|['pork spareribs'...|           22|  1109.5|    7.480847228481298| 34.06940063091483|24.785939612438035|  8.652546191978368|        7.751239296980622|       3.2447048219918884|\n",
      "|bananas 4 ice cre...| 70971|    180|        102353|2003-09-10 00:00:00|[weeknight,  time...|4270.8, 254.0, 13...|      8|['crumble cookies...|                    |['chocolate sandw...|            6|  4270.8|    5.947363763602717| 30.57975226482342| 2.599044794330321| 2.9736818818013586|       10.091786543751068|        5.151259952726763|\n",
      "|beat this  banana...| 75452|     70|         15892|2003-11-04 00:00:00|[weeknight,  time...|2669.3, 160.0, 97...|     12|['preheat oven to...| from ann hodgman's |['sugar', 'unsalt...|            9|  2669.3|    5.994080735518779| 36.56389248666455| 4.008541491878184| 2.3227062850135267|       11.613531425067634|        5.169894634384947|\n",
      "|berry  good sandw...|109439|      5|         49168|2005-01-25 00:00:00|[15-minutes-or-le...|79.2, 3.0, 58.0, ...|      2|['in medium size ...|horseradish is on...|['whole berry cra...|            3|    79.2|   3.7878789338344587| 73.23232605413287|               0.0|                0.0|       7.5757578676689175|        6.313131556390765|\n",
      "|better than sex  ...| 42198|   1460|         41531|2002-10-03 00:00:00|[weeknight,  time...|734.1, 66.0, 199....|      8|['crush vanilla w...|simple but sexy. ...|['vanilla wafers'...|            7|   734.1|    8.990601034596235|27.108024331585614|1.3622122779691264| 1.3622122779691264|        15.93788365223878|        3.814194378313554|\n",
      "|better then bush ...| 67547|   2970|         85627|2003-07-26 00:00:00|[weeknight,  time...|462.4, 28.0, 214....|      9|['in a very large...|i'd have to say t...|['great northern ...|           13|   462.4|    6.055363401727952| 46.28027742749221|14.922145525686739|  3.027681700863976|        6.271626380361093|        4.974048508562246|\n",
      "|boat house  colla...|107517|    525|        137696|2005-01-03 00:00:00|[time-to-make,  m...|315.8, 0.0, 202.0...|      7|['put prepared gr...|my boss gave me t...|['collard greens'...|            7|   315.8|                  0.0| 63.96453698802122| 2.849905113327678|  1.899936742218452|                      0.0|        6.649778597764582|\n",
      "|calm your nerves ...| 39959|      5|         37449|2002-09-10 00:00:00|[15-minutes-or-le...|8.2, 0.0, 0.0, 0....|      6|['combine herbs',...|this will prove a...|['gentian root', ...|            5|     8.2|                  0.0|               0.0|               0.0| 12.195122234882314|                      0.0|                      0.0|\n",
      "|chicken lickin  g...| 63986|    500|         14664|2003-06-06 00:00:00|[weeknight,  time...|105.7, 8.0, 0.0, ...|      5|['dredge pork cho...|here's and old st...|['lean pork chops...|            7|   105.7|     7.56859056856675|               0.0|24.597919347841934|  4.730369105354218|        3.784295284283375|        2.838221463212531|\n",
      "|      chile rellenos| 43026|     45|         52268|2002-10-14 00:00:00|[60-minutes-or-le...|94.0, 10.0, 0.0, ...|      9|['drain green chi...|a favorite from a...|['egg roll wrap',...|            5|    94.0|   10.638297872340425|               0.0|11.702127659574469| 11.702127659574469|       22.340425531914892|                      0.0|\n",
      "|      chinese  candy| 23933|     15|         35268|2002-03-29 00:00:00|[15-minutes-or-le...|232.7, 21.0, 77.0...|      4|['melt butterscot...|a little differen...|['butterscotch ch...|            3|   232.7|    9.024495176366884|33.089815646678574|1.7189514621651205|  2.578427193247681|       16.330038890568645|        3.437902924330241|\n",
      "|  chinese  chop suey|  8559|     70|          4481|2001-01-27 00:00:00|[weeknight,  time...|395.4, 31.0, 20.0...|      8|['brown ground me...|easy one-pot dinn...|['celery', 'onion...|            7|   395.4|    7.840161982429315| 5.058169020922139| 7.334345080337101| 12.898331003351453|        8.345978884521529|       2.0232676083688554|\n",
      "|cream  of caulifl...| 23850|    110|          3288|2002-03-28 00:00:00|[lactose,  weekni...|174.2, 4.0, 24.0,...|     10|['heat the oil or...|this is a dairy f...|['canola oil', 'o...|           16|   174.2|   2.2962112916617725|13.777267749970635|0.5740528229154431|  8.610792343731646|       0.5740528229154431|        5.740528229154431|\n",
      "+--------------------+------+-------+--------------+-------------------+--------------------+--------------------+-------+--------------------+--------------------+--------------------+-------------+--------+---------------------+------------------+------------------+-------------------+-------------------------+-------------------------+\n",
      "only showing top 20 rows"
     ]
    }
   ],
   "source": [
    "recipe_df.show()"
   ]
  },
  {
   "cell_type": "code",
   "execution_count": 18,
   "id": "be608526",
   "metadata": {},
   "outputs": [
    {
     "data": {
      "application/vnd.jupyter.widget-view+json": {
       "model_id": "9da1e3031fad4aad960070b4edfa9c54",
       "version_major": 2,
       "version_minor": 0
      },
      "text/plain": [
       "VBox()"
      ]
     },
     "metadata": {},
     "output_type": "display_data"
    },
    {
     "data": {
      "application/vnd.jupyter.widget-view+json": {
       "model_id": "",
       "version_major": 2,
       "version_minor": 0
      },
      "text/plain": [
       "FloatProgress(value=0.0, bar_style='info', description='Progress:', layout=Layout(height='25px', width='50%'),…"
      ]
     },
     "metadata": {},
     "output_type": "display_data"
    },
    {
     "name": "stdout",
     "output_type": "stream",
     "text": [
      "root\n",
      " |-- name: string (nullable = true)\n",
      " |-- id: integer (nullable = true)\n",
      " |-- minutes: integer (nullable = true)\n",
      " |-- contributor_id: integer (nullable = true)\n",
      " |-- submitted: timestamp (nullable = true)\n",
      " |-- tags: array (nullable = true)\n",
      " |    |-- element: string (containsNull = false)\n",
      " |-- nutrition: string (nullable = true)\n",
      " |-- n_steps: integer (nullable = true)\n",
      " |-- steps: string (nullable = true)\n",
      " |-- description: string (nullable = true)\n",
      " |-- ingredients: string (nullable = true)\n",
      " |-- n_ingredients: integer (nullable = true)\n",
      " |-- calories: float (nullable = true)\n",
      " |-- total_fat_per_100_cal: double (nullable = false)\n",
      " |-- sugar_per_100_cal: double (nullable = false)\n",
      " |-- sodium_per_100_cal: double (nullable = false)\n",
      " |-- protein_per_100_cal: double (nullable = false)\n",
      " |-- saturated_fat_per_100_cal: double (nullable = false)\n",
      " |-- carbohydrates_per_100_cal: double (nullable = false)"
     ]
    }
   ],
   "source": [
    "recipe_df.printSchema()"
   ]
  },
  {
   "cell_type": "code",
   "execution_count": 19,
   "id": "4b02a8e7",
   "metadata": {},
   "outputs": [
    {
     "data": {
      "application/vnd.jupyter.widget-view+json": {
       "model_id": "a8c00ab95d804c318759300b3d41d0e2",
       "version_major": 2,
       "version_minor": 0
      },
      "text/plain": [
       "VBox()"
      ]
     },
     "metadata": {},
     "output_type": "display_data"
    },
    {
     "data": {
      "application/vnd.jupyter.widget-view+json": {
       "model_id": "",
       "version_major": 2,
       "version_minor": 0
      },
      "text/plain": [
       "FloatProgress(value=0.0, bar_style='info', description='Progress:', layout=Layout(height='25px', width='50%'),…"
      ]
     },
     "metadata": {},
     "output_type": "display_data"
    },
    {
     "name": "stderr",
     "output_type": "stream",
     "text": [
      "An error was encountered:\n",
      "You have not split the string into an array.\n",
      "Traceback (most recent call last):\n",
      "AssertionError: You have not split the string into an array.\n",
      "\n"
     ]
    }
   ],
   "source": [
    "# Code check cell\n",
    "# Do not edit cells with assert commands\n",
    "# If an error is shown after running this cell, please recheck your code.  \n",
    "\n",
    "assert recipe_df.schema[\"tags\"].dataType == ArrayType(StringType(), True), \"You have not split the string into an array.\"\n",
    "assert recipe_df.collect()[2][5] == ['time-to-make','course', 'preparation', 'main-dish', 'chili', 'crock-pot-slow-cooker', 'dietary', 'equipment', '4-hours-or-less'], \"Recheck your string cleaning and splitting operations.\"\n"
   ]
  },
  {
   "cell_type": "code",
   "execution_count": 19,
   "id": "52aa6306-1085-4ef4-94af-0a2a67b588de",
   "metadata": {},
   "outputs": [
    {
     "data": {
      "application/vnd.jupyter.widget-view+json": {
       "model_id": "a8c00ab95d804c318759300b3d41d0e2",
       "version_major": 2,
       "version_minor": 0
      },
      "text/plain": [
       "VBox()"
      ]
     },
     "metadata": {},
     "output_type": "display_data"
    },
    {
     "data": {
      "application/vnd.jupyter.widget-view+json": {
       "model_id": "",
       "version_major": 2,
       "version_minor": 0
      },
      "text/plain": [
       "FloatProgress(value=0.0, bar_style='info', description='Progress:', layout=Layout(height='25px', width='50%'),…"
      ]
     },
     "metadata": {},
     "output_type": "display_data"
    },
    {
     "name": "stderr",
     "output_type": "stream",
     "text": [
      "An error was encountered:\n",
      "You have not split the string into an array.\n",
      "Traceback (most recent call last):\n",
      "AssertionError: You have not split the string into an array.\n",
      "\n"
     ]
    }
   ],
   "source": [
    "recipe_dff = spark.read.options(header=True, inferSchema=True).csv('s3://foodproj/e-2RYFIQJPQ6ML5ST9TYHE146YH/RAW_recipes_cleaned.csv')"
   ]
  }
 ],
 "metadata": {
  "kernelspec": {
   "display_name": "Python 3 (ipykernel)",
   "language": "python",
   "name": "python3"
  },
  "language_info": {
   "codemirror_mode": {
    "name": "ipython",
    "version": 3
   },
   "file_extension": ".py",
   "mimetype": "text/x-python",
   "name": "python",
   "nbconvert_exporter": "python",
   "pygments_lexer": "ipython3",
   "version": "3.12.7"
  }
 },
 "nbformat": 4,
 "nbformat_minor": 5
}
